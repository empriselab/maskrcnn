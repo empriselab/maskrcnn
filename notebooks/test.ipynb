{
 "cells": [
  {
   "cell_type": "code",
   "execution_count": 7,
   "metadata": {},
   "outputs": [
    {
     "data": {
      "text/plain": [
       "{1: [0, 113, 188],\n",
       " 2: [236, 176, 31],\n",
       " 3: [125, 46, 141],\n",
       " 4: [118, 171, 47],\n",
       " 5: [161, 19, 46],\n",
       " 6: [255, 0, 0],\n",
       " 7: [255, 127, 0],\n",
       " 8: [190, 190, 0],\n",
       " 9: [0, 255, 0],\n",
       " 10: [0, 0, 255],\n",
       " 11: [170, 0, 255],\n",
       " 12: [84, 84, 0],\n",
       " 13: [84, 170, 0],\n",
       " 14: [84, 255, 0],\n",
       " 15: [170, 84, 0],\n",
       " 16: [170, 170, 0],\n",
       " 17: [170, 255, 0],\n",
       " 18: [255, 84, 0],\n",
       " 19: [255, 170, 0],\n",
       " 20: [255, 255, 0],\n",
       " 21: [0, 84, 127],\n",
       " 22: [0, 170, 127],\n",
       " 23: [0, 255, 127],\n",
       " 24: [84, 0, 127],\n",
       " 25: [84, 84, 127],\n",
       " 26: [84, 170, 127],\n",
       " 27: [84, 255, 127],\n",
       " 28: [170, 0, 127],\n",
       " 29: [170, 84, 127],\n",
       " 30: [170, 170, 127],\n",
       " 31: [170, 255, 127],\n",
       " 32: [255, 0, 127],\n",
       " 33: [255, 84, 127]}"
      ]
     },
     "execution_count": 7,
     "metadata": {},
     "output_type": "execute_result"
    }
   ],
   "source": [
    "import json\n",
    "\n",
    "with open('../data/json/emprise-feeding-infra-ground-truth.json', 'r') as f:\n",
    "    js = json.load(f)\n",
    "    categories = js['dataset']['task_attributes']['categories']\n",
    "\n",
    "id_to_color = {x['id']:x['color'] for x in categories}\n",
    "id_to_color"
   ]
  },
  {
   "cell_type": "code",
   "execution_count": 9,
   "metadata": {},
   "outputs": [],
   "source": [
    "with open('../data/json/id_to_color.json', 'w') as f:\n",
    "    json.dump(id_to_color, f)"
   ]
  },
  {
   "cell_type": "code",
   "execution_count": 4,
   "metadata": {},
   "outputs": [
    {
     "data": {
      "text/plain": [
       "array([[0, 3, 2, 0, 0],\n",
       "       [0, 0, 0, 0, 0],\n",
       "       [0, 0, 0, 0, 4],\n",
       "       [1, 0, 0, 0, 0]])"
      ]
     },
     "execution_count": 4,
     "metadata": {},
     "output_type": "execute_result"
    }
   ],
   "source": [
    "x * np.logical_and(x, bool_arr)"
   ]
  },
  {
   "cell_type": "code",
   "execution_count": 5,
   "metadata": {},
   "outputs": [
    {
     "data": {
      "text/plain": [
       "array([[0, 3, 2, 0, 0],\n",
       "       [0, 0, 0, 0, 0],\n",
       "       [0, 0, 0, 0, 4],\n",
       "       [1, 0, 0, 0, 0]])"
      ]
     },
     "execution_count": 5,
     "metadata": {},
     "output_type": "execute_result"
    }
   ],
   "source": [
    "x * bool_arr"
   ]
  },
  {
   "cell_type": "code",
   "execution_count": null,
   "metadata": {},
   "outputs": [],
   "source": []
  }
 ],
 "metadata": {
  "kernelspec": {
   "display_name": "Python 3.8.10 64-bit",
   "language": "python",
   "name": "python3"
  },
  "language_info": {
   "codemirror_mode": {
    "name": "ipython",
    "version": 3
   },
   "file_extension": ".py",
   "mimetype": "text/x-python",
   "name": "python",
   "nbconvert_exporter": "python",
   "pygments_lexer": "ipython3",
   "version": "3.8.10"
  },
  "orig_nbformat": 4,
  "vscode": {
   "interpreter": {
    "hash": "e7370f93d1d0cde622a1f8e1c04877d8463912d04d973331ad4851f04de6915a"
   }
  }
 },
 "nbformat": 4,
 "nbformat_minor": 2
}
