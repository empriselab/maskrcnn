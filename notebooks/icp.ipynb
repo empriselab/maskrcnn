{
 "cells": [
  {
   "cell_type": "code",
   "execution_count": 1,
   "metadata": {},
   "outputs": [],
   "source": [
    "import numpy as np\n",
    "from icp import icp "
   ]
  },
  {
   "cell_type": "code",
   "execution_count": 2,
   "metadata": {},
   "outputs": [
    {
     "data": {
      "text/plain": [
       "(array([[-0.98987113, -0.11699064,  0.08042595,  0.1752881 ],\n",
       "        [-0.12681329,  0.98331332, -0.13043506, -0.43161144],\n",
       "        [-0.06382423, -0.13931298, -0.98818944,  0.64054673],\n",
       "        [ 0.        ,  0.        ,  0.        ,  1.        ]]),\n",
       " array([[-8.20473793e-01,  3.29483605e-01,  4.67186588e-01,\n",
       "          3.10867055e-02],\n",
       "        [ 2.86258993e-01,  9.44161289e-01, -1.63141807e-01,\n",
       "         -5.58993852e-01],\n",
       "        [-4.94852042e-01, -1.17214940e-04, -8.68977240e-01,\n",
       "          6.05568453e-01],\n",
       "        [ 0.00000000e+00,  0.00000000e+00,  0.00000000e+00,\n",
       "          1.00000000e+00]]))"
      ]
     },
     "execution_count": 2,
     "metadata": {},
     "output_type": "execute_result"
    }
   ],
   "source": [
    "transform_callback_51 = np.load('../data/3d/transform_callback_51.npy')\n",
    "transform_callback_3100 = np.load('../data/3d/transform_callback_3100.npy')\n",
    "\n",
    "transform_callback_51, transform_callback_3100"
   ]
  },
  {
   "cell_type": "code",
   "execution_count": 3,
   "metadata": {},
   "outputs": [
    {
     "data": {
      "text/plain": [
       "(array([[ 0.        , -0.        ,  0.        ],\n",
       "        [ 0.        , -0.        ,  0.        ],\n",
       "        [ 0.        , -0.        ,  0.        ],\n",
       "        ...,\n",
       "        [ 0.01529382,  0.04857863,  0.44499999],\n",
       "        [ 0.01581662,  0.04868779,  0.44600001],\n",
       "        [ 0.01630505,  0.04868779,  0.44600001]]),\n",
       " array([[ 0.0195688 , -0.06716065,  0.47799999],\n",
       "        [ 0.02009228, -0.06716065,  0.47799999],\n",
       "        [ 0.02057262, -0.06702015,  0.477     ],\n",
       "        ...,\n",
       "        [ 0.0710165 ,  0.07989194,  0.44299999],\n",
       "        [ 0.07150164,  0.07989194,  0.44299999],\n",
       "        [ 0.07198679,  0.07989194,  0.44299999]]))"
      ]
     },
     "execution_count": 3,
     "metadata": {},
     "output_type": "execute_result"
    }
   ],
   "source": [
    "xyz_coords_callback_51 = np.load('../data/3d/xyz_coords_callback_51.npy')\n",
    "xyz_coords_callback_3100 = np.load('../data/3d/xyz_coords_callback_3100.npy')\n",
    "\n",
    "xyz_coords_callback_51, xyz_coords_callback_3100"
   ]
  },
  {
   "cell_type": "markdown",
   "metadata": {},
   "source": [
    "$$ R^{3100}_{51} = R^{3100}_b \\left( R^{51}_{b} \\right)^{-1}$$"
   ]
  },
  {
   "cell_type": "code",
   "execution_count": 4,
   "metadata": {},
   "outputs": [
    {
     "data": {
      "text/plain": [
       "array([[ 0.81119075,  0.36709509, -0.45520409,  0.33891654],\n",
       "       [-0.40693838,  0.91338434,  0.01141083, -0.10074444],\n",
       "       [ 0.41996514,  0.17598365,  0.89031401,  0.03762239],\n",
       "       [ 0.        ,  0.        ,  0.        ,  1.        ]])"
      ]
     },
     "execution_count": 4,
     "metadata": {},
     "output_type": "execute_result"
    }
   ],
   "source": [
    "tf_3100_wrt_51 = transform_callback_3100 @ np.linalg.inv(transform_callback_51)\n",
    "\n",
    "tf_3100_wrt_51"
   ]
  },
  {
   "cell_type": "code",
   "execution_count": 7,
   "metadata": {},
   "outputs": [
    {
     "name": "stdout",
     "output_type": "stream",
     "text": [
      "INITIAL ERROR :: 0.11311073232865705\n",
      "EPOCH 1 ERROR :: 0.0281334463981231 (diff :: -0.08497728593053396)\n",
      "EPOCH 2 ERROR :: 0.018007530675856306 (diff :: -0.09510320165280074)\n",
      "EPOCH 3 ERROR :: 0.013775839513010014 (diff :: -0.09933489281564703)\n",
      "EPOCH 4 ERROR :: 0.0117815675237734 (diff :: -0.10132916480488366)\n",
      "EPOCH 5 ERROR :: 0.010675615802902761 (diff :: -0.1024351165257543)\n",
      "EPOCH 6 ERROR :: 0.010041971260352639 (diff :: -0.10306876106830441)\n",
      "EPOCH 7 ERROR :: 0.009680465779478448 (diff :: -0.1034302665491786)\n",
      "EPOCH 8 ERROR :: 0.009459832982560161 (diff :: -0.10365089934609689)\n",
      "EPOCH 9 ERROR :: 0.009326695802081867 (diff :: -0.10378403652657518)\n"
     ]
    },
    {
     "data": {
      "text/plain": [
       "(array([[ 0.74161903,  0.59738633,  0.30517338, -0.06982792],\n",
       "        [-0.63815977,  0.7685006 ,  0.04646432,  0.03109175],\n",
       "        [-0.20676878, -0.22920819,  0.95116259,  0.00490654],\n",
       "        [ 0.        ,  0.        ,  0.        ,  1.        ]]),\n",
       " 0.009326695802081867,\n",
       " 9)"
      ]
     },
     "execution_count": 7,
     "metadata": {},
     "output_type": "execute_result"
    }
   ],
   "source": [
    "R, dists, iter = icp(xyz_coords_callback_51, xyz_coords_callback_3100, init_pose=tf_3100_wrt_51, max_iterations=10)\n",
    "\n",
    "R, np.mean(dists), iter"
   ]
  },
  {
   "cell_type": "code",
   "execution_count": null,
   "metadata": {},
   "outputs": [],
   "source": []
  }
 ],
 "metadata": {
  "kernelspec": {
   "display_name": "Python 3.11.0 ('base2')",
   "language": "python",
   "name": "python3"
  },
  "language_info": {
   "codemirror_mode": {
    "name": "ipython",
    "version": 3
   },
   "file_extension": ".py",
   "mimetype": "text/x-python",
   "name": "python",
   "nbconvert_exporter": "python",
   "pygments_lexer": "ipython3",
   "version": "3.9.0"
  },
  "orig_nbformat": 4,
  "vscode": {
   "interpreter": {
    "hash": "d813f877d27b2e160e5a9edfca60f54a26a74d34963191e802715d49b9e7cef8"
   }
  }
 },
 "nbformat": 4,
 "nbformat_minor": 2
}
