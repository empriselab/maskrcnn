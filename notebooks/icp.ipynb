{
 "cells": [
  {
   "cell_type": "code",
   "execution_count": 2,
   "metadata": {},
   "outputs": [],
   "source": [
    "import numpy as np\n",
    "from icp import icp "
   ]
  },
  {
   "cell_type": "code",
   "execution_count": 3,
   "metadata": {},
   "outputs": [
    {
     "data": {
      "text/plain": [
       "(array([[ 1.00000000e+00, -9.71111694e-09,  6.25938525e-08,\n",
       "          9.63110702e-09],\n",
       "        [ 9.71109893e-09,  1.00000000e+00,  2.87002205e-07,\n",
       "          2.76676423e-08],\n",
       "        [-6.25938553e-08, -2.87002205e-07,  1.00000000e+00,\n",
       "          1.06303481e-07],\n",
       "        [ 0.00000000e+00,  0.00000000e+00,  0.00000000e+00,\n",
       "          1.00000000e+00]]),\n",
       " array([[ 0.75632498, -0.63907289, -0.13985125,  0.05573991],\n",
       "        [ 0.55393723,  0.51188124,  0.65660578, -0.27233641],\n",
       "        [-0.34803172, -0.57407616,  0.74115483,  0.05498788],\n",
       "        [ 0.        ,  0.        ,  0.        ,  1.        ]]))"
      ]
     },
     "execution_count": 3,
     "metadata": {},
     "output_type": "execute_result"
    }
   ],
   "source": [
    "transform_callback_51 = np.load('../data/3d/transform_callback_51.npy')\n",
    "transform_callback_4100 = np.load('../data/3d/transform_callback_4100.npy')\n",
    "\n",
    "transform_callback_51, transform_callback_4100"
   ]
  },
  {
   "cell_type": "code",
   "execution_count": 4,
   "metadata": {},
   "outputs": [
    {
     "data": {
      "text/plain": [
       "(array([[-0.35193014, -0.19554308,  0.50400001],\n",
       "        [-0.35137819, -0.19554308,  0.50400001],\n",
       "        [-0.35082624, -0.19554308,  0.50400001],\n",
       "        ...,\n",
       "        [ 0.30879148,  0.17611372,  0.44100001],\n",
       "        [ 0.30927443,  0.17611372,  0.44100001],\n",
       "        [ 0.30975738,  0.17611372,  0.44100001]]),\n",
       " array([[-0.42804199, -0.23783314,  0.61299998],\n",
       "        [-0.42737068, -0.23783314,  0.61299998],\n",
       "        [-0.42739548, -0.23822113,  0.61400002],\n",
       "        ...,\n",
       "        [ 0.2457728 ,  0.14017213,  0.35100001],\n",
       "        [ 0.24615719,  0.14017213,  0.35100001],\n",
       "        [ 0.24654158,  0.14017213,  0.35100001]]))"
      ]
     },
     "execution_count": 4,
     "metadata": {},
     "output_type": "execute_result"
    }
   ],
   "source": [
    "xyz_coords_callback_51 = np.load('../data/3d/xyz_coords_callback_51.npy')\n",
    "xyz_coords_callback_4100 = np.load('../data/3d/xyz_coords_callback_4100.npy')\n",
    "\n",
    "xyz_coords_callback_51, xyz_coords_callback_4100"
   ]
  },
  {
   "cell_type": "markdown",
   "metadata": {},
   "source": [
    "$$ R^{4100}_{51} = R^{4100}_b \\left( R^{51}_{b} \\right)^{-1}$$"
   ]
  },
  {
   "cell_type": "code",
   "execution_count": 5,
   "metadata": {},
   "outputs": [
    {
     "data": {
      "text/plain": [
       "array([[ 0.75632497, -0.63907292, -0.13985111,  0.05573993],\n",
       "       [ 0.55393726,  0.51188143,  0.6566056 , -0.2723365 ],\n",
       "       [-0.34803167, -0.57407595,  0.74115502,  0.05498782],\n",
       "       [ 0.        ,  0.        ,  0.        ,  1.        ]])"
      ]
     },
     "execution_count": 5,
     "metadata": {},
     "output_type": "execute_result"
    }
   ],
   "source": [
    "tf_4100_wrt_51 = transform_callback_4100 @ np.linalg.inv(transform_callback_51)\n",
    "\n",
    "tf_4100_wrt_51"
   ]
  },
  {
   "cell_type": "code",
   "execution_count": 6,
   "metadata": {},
   "outputs": [
    {
     "name": "stdout",
     "output_type": "stream",
     "text": [
      "INITIAL ERROR :: 0.04560661703703066\n",
      "EPOCH 1 ERROR :: 0.04878232326441207 (diff :: 0.0031757062273814127)\n",
      "EPOCH 2 ERROR :: 0.04822071740087061 (diff :: 0.0026141003638399524)\n",
      "EPOCH 3 ERROR :: 0.047451017130870944 (diff :: 0.0018444000938402857)\n",
      "EPOCH 4 ERROR :: 0.04690822383235533 (diff :: 0.001301606795324671)\n"
     ]
    },
    {
     "data": {
      "text/plain": [
       "(array([[ 0.89663891, -0.44274039,  0.0044289 ,  0.0016151 ],\n",
       "        [ 0.42461326,  0.86267634,  0.27476009, -0.10301324],\n",
       "        [-0.1254681 , -0.24448002,  0.96150261, -0.01962029],\n",
       "        [ 0.        ,  0.        ,  0.        ,  1.        ]]),\n",
       " 0.04690822383235533,\n",
       " 4)"
      ]
     },
     "execution_count": 6,
     "metadata": {},
     "output_type": "execute_result"
    }
   ],
   "source": [
    "R, dists, iter = icp(xyz_coords_callback_51, xyz_coords_callback_4100, init_pose=tf_4100_wrt_51, max_iterations=5)\n",
    "\n",
    "R, np.mean(dists), iter"
   ]
  },
  {
   "cell_type": "code",
   "execution_count": 7,
   "metadata": {},
   "outputs": [
    {
     "data": {
      "text/plain": [
       "0.033958910624471345"
      ]
     },
     "execution_count": 7,
     "metadata": {},
     "output_type": "execute_result"
    }
   ],
   "source": [
    "np.std(dists)"
   ]
  },
  {
   "cell_type": "code",
   "execution_count": 8,
   "metadata": {},
   "outputs": [
    {
     "data": {
      "text/plain": [
       "array([0.09957532, 0.0995371 , 0.09950193, ..., 0.17141762, 0.17162172,\n",
       "       0.17182693])"
      ]
     },
     "execution_count": 8,
     "metadata": {},
     "output_type": "execute_result"
    }
   ],
   "source": [
    "dists"
   ]
  },
  {
   "cell_type": "code",
   "execution_count": null,
   "metadata": {},
   "outputs": [],
   "source": []
  }
 ],
 "metadata": {
  "kernelspec": {
   "display_name": "Python 3.11.0 ('base2')",
   "language": "python",
   "name": "python3"
  },
  "language_info": {
   "codemirror_mode": {
    "name": "ipython",
    "version": 3
   },
   "file_extension": ".py",
   "mimetype": "text/x-python",
   "name": "python",
   "nbconvert_exporter": "python",
   "pygments_lexer": "ipython3",
   "version": "3.9.0"
  },
  "orig_nbformat": 4,
  "vscode": {
   "interpreter": {
    "hash": "d813f877d27b2e160e5a9edfca60f54a26a74d34963191e802715d49b9e7cef8"
   }
  }
 },
 "nbformat": 4,
 "nbformat_minor": 2
}
