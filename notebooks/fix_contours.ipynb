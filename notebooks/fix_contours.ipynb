{
 "cells": [
  {
   "cell_type": "code",
   "execution_count": null,
   "metadata": {},
   "outputs": [],
   "source": [
    "from PIL import Image   \n",
    "import numpy as np\n",
    "import cv2\n",
    "import matplotlib.pyplot as plt\n",
    "import torch\n",
    "    \n",
    "def contours_idk(image_path, mask_path):\n",
    "    image = np.array(Image.open(image_path).convert('RGB'))\n",
    "    mask = np.array(Image.open(mask_path).convert('L'))\n",
    "\n",
    "    # extract bbox, labels \n",
    "    boxes, labels, binary_masks = [], [], []\n",
    "    class_labels = torch.unique(torch.tensor(mask)).tolist()[1:]    # exclude zero\n",
    "\n",
    "    for label in class_labels:\n",
    "        \n",
    "        class_mask = (mask == label).astype('uint8')\n",
    "        class_mask = (cv2.blur(class_mask, (2,2)) > 0.5).astype('uint8')\n",
    "        plt.imshow(class_mask)\n",
    "        plt.show()\n",
    "\n",
    "        contours, _ = cv2.findContours(class_mask, cv2.RETR_EXTERNAL, cv2.CHAIN_APPROX_SIMPLE)\n",
    "        for contour in contours:\n",
    "                canvas = np.zeros((720,1280))\n",
    "                contour_area = cv2.contourArea(contour)\n",
    "                x, y, w, h = cv2.boundingRect(contour)\n",
    "                if contour_area > 50.0:\n",
    "                    cv2.drawContours(canvas, [contour], -1, 1, -1)\n",
    "                    cv2.rectangle(canvas, (x,y),(x+w,y+h), color=1, thickness=2)\n",
    "                    plt.imshow(canvas, cmap='gray')\n",
    "                    plt.show()\n",
    "\n",
    "\n",
    "image_path = 'bag_8_callback_50_img.png'\n",
    "mask_path = image_path.replace('img.png', 'mask.png')\n",
    "contours_idk(image_path, mask_path)"
   ]
  }
 ],
 "metadata": {
  "kernelspec": {
   "display_name": "Python 3.8.10 64-bit",
   "language": "python",
   "name": "python3"
  },
  "language_info": {
   "name": "python",
   "version": "3.8.10"
  },
  "orig_nbformat": 4,
  "vscode": {
   "interpreter": {
    "hash": "767d51c1340bd893661ea55ea3124f6de3c7a262a8b4abca0554b478b1e2ff90"
   }
  }
 },
 "nbformat": 4,
 "nbformat_minor": 2
}
